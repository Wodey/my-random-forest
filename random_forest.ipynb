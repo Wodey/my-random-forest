{
 "cells": [
  {
   "cell_type": "code",
   "execution_count": 1,
   "id": "0fd7aec2",
   "metadata": {},
   "outputs": [],
   "source": [
    "import numpy as np"
   ]
  },
  {
   "cell_type": "code",
   "execution_count": 105,
   "id": "4a06fcf5",
   "metadata": {},
   "outputs": [],
   "source": [
    "class DecisionTree:\n",
    "    def __init__(self, depth=4):\n",
    "        self.depth = depth\n",
    "        \n",
    "    def branching(self, X, Y):\n",
    "        branch_criterie = lambda L, R: len(Y) * self.__H(Y) - len(L) * self.__H(L) - len(R) * self.__H(R)\n",
    "        \n",
    "        feature_indexes = np.random.choice(np.arange(X.shape[1]), int(np.sqrt(X.shape[1])), replace=False)\n",
    "        max_ig = float('-inf')\n",
    "        max_feature = None\n",
    "        max_feature_value = None\n",
    "        \n",
    "        for i in feature_indexes:\n",
    "            unique_features_values = np.unique(X[:, i])\n",
    "            for k in unique_features_values:\n",
    "                left = Y[X[:, i] <= k]\n",
    "                right = Y[X[:, i] > k]\n",
    "                \n",
    "                ig = branch_criterie(left, right)\n",
    "                if ig > max_ig:\n",
    "                    max_ig = ig\n",
    "                    max_feature = i\n",
    "                    max_feature_value = k\n",
    "        \n",
    "        return max_ig, max_feature, max_feature_value\n",
    "    \n",
    "    def fit(self, X, Y):\n",
    "        pass\n",
    "    def __H(self, Y):\n",
    "        values = np.unique(Y, return_counts=True)\n",
    "        entropy = 0\n",
    "        for count in values[1]:\n",
    "            p = count / len(Y)\n",
    "            entropy -= p * np.log2(p)\n",
    "\n",
    "        return entropy"
   ]
  },
  {
   "cell_type": "code",
   "execution_count": 106,
   "id": "6d869d18",
   "metadata": {},
   "outputs": [
    {
     "data": {
      "text/plain": [
       "(2.7548875021634682, 6, 2)"
      ]
     },
     "execution_count": 106,
     "metadata": {},
     "output_type": "execute_result"
    }
   ],
   "source": [
    "tree = DecisionTree()\n",
    "\n",
    "tree.branching(np.array([[1, 2, 3, 4, 5, 6, 8, 1, 2],\n",
    "               [2, 3, 5, 5, 6, 7, 2, 3, 4],\n",
    "                        [2, 1, 2, 3, 4, 5,6, 3, 1]]), np.array([2, 3, 5]))"
   ]
  },
  {
   "cell_type": "code",
   "execution_count": null,
   "id": "8b9a071d",
   "metadata": {},
   "outputs": [],
   "source": []
  },
  {
   "cell_type": "code",
   "execution_count": null,
   "id": "5b70638e",
   "metadata": {},
   "outputs": [],
   "source": []
  }
 ],
 "metadata": {
  "kernelspec": {
   "display_name": "Python 3 (ipykernel)",
   "language": "python",
   "name": "python3"
  },
  "language_info": {
   "codemirror_mode": {
    "name": "ipython",
    "version": 3
   },
   "file_extension": ".py",
   "mimetype": "text/x-python",
   "name": "python",
   "nbconvert_exporter": "python",
   "pygments_lexer": "ipython3",
   "version": "3.9.12"
  }
 },
 "nbformat": 4,
 "nbformat_minor": 5
}
