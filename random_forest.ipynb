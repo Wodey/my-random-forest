{
 "cells": [
  {
   "cell_type": "code",
   "execution_count": 2,
   "id": "0fd7aec2",
   "metadata": {},
   "outputs": [],
   "source": [
    "import numpy as np"
   ]
  },
  {
   "cell_type": "code",
   "execution_count": 47,
   "id": "4a06fcf5",
   "metadata": {},
   "outputs": [],
   "source": [
    "class DecisionTree:\n",
    "    def __init__(self, depth=4):\n",
    "        self.depth = depth\n",
    "    \n",
    "    def fit(self, X, Y):\n",
    "        pass\n",
    "    def branch(self, Y, L, R):\n",
    "        return len(Y) * self.__H(Y) - len(L) * self.__H(L) - len(R) * self.__H(R)\n",
    "    def __H(self, Y):\n",
    "        values = np.unique(Y, return_counts=True)\n",
    "        entropy = 0\n",
    "        for count in values[1]:\n",
    "            p = count / len(Y)\n",
    "            entropy -= p * np.log2(p)\n",
    "            print(p)\n",
    "        return entropy"
   ]
  },
  {
   "cell_type": "code",
   "execution_count": 46,
   "id": "6d869d18",
   "metadata": {},
   "outputs": [
    {
     "name": "stdout",
     "output_type": "stream",
     "text": [
      "0.5\n",
      "0.5\n",
      "0.6666666666666666\n",
      "0.3333333333333333\n",
      "1.0\n"
     ]
    },
    {
     "data": {
      "text/plain": [
       "1.2451124978365313"
      ]
     },
     "execution_count": 46,
     "metadata": {},
     "output_type": "execute_result"
    }
   ],
   "source": [
    "tree = DecisionTree()\n",
    "\n",
    "tree.branch([1,1, 2, 2], [1, 1, 2], [2])"
   ]
  },
  {
   "cell_type": "code",
   "execution_count": null,
   "id": "8b9a071d",
   "metadata": {},
   "outputs": [],
   "source": []
  },
  {
   "cell_type": "code",
   "execution_count": null,
   "id": "5b70638e",
   "metadata": {},
   "outputs": [],
   "source": []
  }
 ],
 "metadata": {
  "kernelspec": {
   "display_name": "Python 3 (ipykernel)",
   "language": "python",
   "name": "python3"
  },
  "language_info": {
   "codemirror_mode": {
    "name": "ipython",
    "version": 3
   },
   "file_extension": ".py",
   "mimetype": "text/x-python",
   "name": "python",
   "nbconvert_exporter": "python",
   "pygments_lexer": "ipython3",
   "version": "3.9.12"
  }
 },
 "nbformat": 4,
 "nbformat_minor": 5
}
